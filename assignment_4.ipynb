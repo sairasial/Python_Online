{
 "cells": [
  {
   "cell_type": "code",
   "execution_count": 4,
   "metadata": {},
   "outputs": [
    {
     "name": "stdout",
     "output_type": "stream",
     "text": [
      "{1: {'First_name': 'Saira', 'Last_name': 'Sial', 'Age': 18, 'City': 'Karachi'}, 2: {'First_name': 'Haniya', 'Last_name': 'Zaman', 'Age': 8, 'City': 'Karachi'}}\n",
      "{1: {'First_name': 'Saira', 'Last_name': 'Sial', 'Age': 18, 'City': 'Karachi'}, 2: {'First_name': 'Haniya', 'Last_name': 'Zaman', 'Age': 8, 'City': 'Karachi'}, 'Qualification': 'Computer System'}\n",
      "{1: {'First_name': 'Saira', 'Last_name': 'Sial', 'Age': 18, 'City': 'Karachi'}, 2: {'First_name': 'Haniya', 'Last_name': 'Zaman', 'Age': 8, 'City': 'Karachi'}}\n"
     ]
    }
   ],
   "source": [
    "Student={\n",
    "     1:{\n",
    "        \"First_name\":\"Saira\",\n",
    "        \"Last_name\":\"Sial\",\n",
    "        \"Age\":18,\n",
    "        \"City\":\"Karachi\"\n",
    "    },\n",
    "     2:{\n",
    "        \"First_name\":\"Haniya\",\n",
    "        \"Last_name\":\"Zaman\",\n",
    "        \"Age\":8,\n",
    "        \"City\":\"Karachi\"\n",
    "    }\n",
    "}\n",
    "\n",
    "print(Student)\n",
    "Student.update({\"Qualification\":\"Computer System\"})\n",
    "print(Student)\n",
    "del Student[\"Qualification\"]\n",
    "print(Student)"
   ]
  },
  {
   "cell_type": "code",
   "execution_count": 5,
   "metadata": {},
   "outputs": [
    {
     "name": "stdout",
     "output_type": "stream",
     "text": [
      "{'Karachi': {'country': 'Pakistan', 'population': '14.91 million', 'fact': 'largest city of Pakistan'}, 'Islamadad': {'country': 'Pakistan', 'population': '1.015 million', 'fact': 'capital city of Pakistan'}, 'Lahore': {'country': 'Pakistan', 'population': '98 million', 'fact': 'Historical city'}}\n"
     ]
    }
   ],
   "source": [
    "Cities={\n",
    "    \"Karachi\":{\n",
    "        \"country\":\"Pakistan\",\n",
    "        \"population\" : \"14.91 million\",\n",
    "        \"fact\":\"largest city of Pakistan\"\n",
    "    },\n",
    "    \"Islamadad\":{\n",
    "        \"country\":\"Pakistan\",\n",
    "        \"population\":\"1.015 million\",\n",
    "        \"fact\":\"capital city of Pakistan\"\n",
    "    },\n",
    "    \"Lahore\":{\n",
    "        \"country\":\"Pakistan\",\n",
    "        \"population\":\"98 million\",\n",
    "        \"fact\":\"Historical city\"\n",
    "    }\n",
    "\n",
    "}\n",
    "print(Cities)"
   ]
  },
  {
   "cell_type": "code",
   "execution_count": 7,
   "metadata": {},
   "outputs": [
    {
     "name": "stdout",
     "output_type": "stream",
     "text": [
      "Enter your age : 18\n",
      "The cost of ticket is $15\n"
     ]
    }
   ],
   "source": [
    "age=int(input(\"Enter your age : \"))\n",
    "if age<3:\n",
    "    print(\"Your ticket is free\")\n",
    "elif age==3&age<=12:\n",
    "    print(\"The cost of ticket is $10\")\n",
    "elif age>12:\n",
    "    print(\"The cost of ticket is $15\")\n",
    "else:\n",
    "    print(\"Invalid number\")"
   ]
  },
  {
   "cell_type": "code",
   "execution_count": 5,
   "metadata": {},
   "outputs": [
    {
     "name": "stdout",
     "output_type": "stream",
     "text": [
      "One of my favourite book is Alice in WonderLand\n"
     ]
    }
   ],
   "source": [
    "def favorite_book(title):\n",
    "    print(\"One of my favourite book is Alice in WonderLand\")\n",
    "favorite_book(\"book\")\n"
   ]
  },
  {
   "cell_type": "code",
   "execution_count": 8,
   "metadata": {},
   "outputs": [
    {
     "name": "stdout",
     "output_type": "stream",
     "text": [
      "enter number : 10\n",
      "too high\n",
      "guess again : 5\n",
      "too high\n",
      "guess again : 2\n",
      "better luck next time\n"
     ]
    }
   ],
   "source": [
    "import random\n",
    "winning_number=(random.randint(0,30))\n",
    "number=int(input(\"enter number : \"))\n",
    "guess=1\n",
    "game_over=False\n",
    "while True:\n",
    "    if number==winning_number:\n",
    "        print(\"you win!!\")\n",
    "        break\n",
    "    elif number<winning_number:\n",
    "        print(\"too low\")\n",
    "        number=int(input(\"guess again : \"))\n",
    "        guess+=1\n",
    "        if guess==3:\n",
    "            print(\"better luck next time\")\n",
    "            break   \n",
    "    else :\n",
    "        print(\"too high\")\n",
    "        number=int(input(\"guess again : \"))\n",
    "        guess+=1\n",
    "        if guess==3:\n",
    "            print(\"better luck next time\")\n",
    "            break    "
   ]
  },
  {
   "cell_type": "code",
   "execution_count": null,
   "metadata": {},
   "outputs": [],
   "source": []
  }
 ],
 "metadata": {
  "kernelspec": {
   "display_name": "Python 3",
   "language": "python",
   "name": "python3"
  },
  "language_info": {
   "codemirror_mode": {
    "name": "ipython",
    "version": 3
   },
   "file_extension": ".py",
   "mimetype": "text/x-python",
   "name": "python",
   "nbconvert_exporter": "python",
   "pygments_lexer": "ipython3",
   "version": "3.7.4"
  }
 },
 "nbformat": 4,
 "nbformat_minor": 2
}
