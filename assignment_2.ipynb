{
 "cells": [
  {
   "cell_type": "code",
   "execution_count": 1,
   "metadata": {},
   "outputs": [
    {
     "name": "stdout",
     "output_type": "stream",
     "text": [
      "Enter 1st subject marks: 77\n",
      "Enter 2nd subject marks: 89\n",
      "Enter 3rd subject marks: 66\n",
      "Enter 4th subject marks: 78\n",
      "Enter 5th subject marks: 59\n",
      "Grade: C\n"
     ]
    }
   ],
   "source": [
    "sub1=int(input(\"Enter 1st subject marks: \"))\n",
    "sub2=int(input(\"Enter 2nd subject marks: \"))\n",
    "sub3=int(input(\"Enter 3rd subject marks: \"))\n",
    "sub4=int(input(\"Enter 4th subject marks: \"))\n",
    "sub5=int(input(\"Enter 5th subject marks: \"))\n",
    "avgerage=(sub1+sub2+sub3+sub4+sub4)/5\n",
    "if(avgerage>=90):\n",
    "    print(\"Grade: A\")\n",
    "elif(avgerage>=80):\n",
    "    print(\"Grade: B\")\n",
    "elif(avgerage>=70):\n",
    "    print(\"Grade: C\")\n",
    "elif(avgerage>=60):\n",
    "    print(\"Grade: D\")\n",
    "else:\n",
    "    print(\"Grade: F\")"
   ]
  },
  {
   "cell_type": "code",
   "execution_count": 2,
   "metadata": {},
   "outputs": [
    {
     "name": "stdout",
     "output_type": "stream",
     "text": [
      "Enter a number: 50\n",
      "Given number is even\n"
     ]
    }
   ],
   "source": [
    "num = int(input(\"Enter a number: \"))\n",
    "if (num % 2) == 0:\n",
    "    print(\"Given number is even\")\n",
    "else:\n",
    "    print(\"Given number is odd\")"
   ]
  },
  {
   "cell_type": "code",
   "execution_count": 4,
   "metadata": {},
   "outputs": [
    {
     "name": "stdout",
     "output_type": "stream",
     "text": [
      "Length of the list: 6\n"
     ]
    }
   ],
   "source": [
    "lisst=[1,3,5,7,9,11]\n",
    "print(\"Length of the list:\",len(lisst))"
   ]
  },
  {
   "cell_type": "code",
   "execution_count": 5,
   "metadata": {},
   "outputs": [
    {
     "data": {
      "text/plain": [
       "21"
      ]
     },
     "execution_count": 5,
     "metadata": {},
     "output_type": "execute_result"
    }
   ],
   "source": [
    "list = [1,2,3,4,5,6]\n",
    "sum(list)"
   ]
  },
  {
   "cell_type": "code",
   "execution_count": 7,
   "metadata": {},
   "outputs": [
    {
     "name": "stdout",
     "output_type": "stream",
     "text": [
      "Largest element: 440\n"
     ]
    }
   ],
   "source": [
    "lisst = [10, 20, 440, 45, 99] \n",
    "print(\"Largest element:\", max(lisst)) "
   ]
  },
  {
   "cell_type": "code",
   "execution_count": 6,
   "metadata": {},
   "outputs": [
    {
     "name": "stdout",
     "output_type": "stream",
     "text": [
      "2\n",
      "4\n",
      "3\n"
     ]
    }
   ],
   "source": [
    "a = [54,22,2,,3,4,5,89,56,44]\n",
    "for i in a:\n",
    " if i < 5:\n",
    "  print(i)"
   ]
  },
  {
   "cell_type": "code",
   "execution_count": null,
   "metadata": {},
   "outputs": [],
   "source": []
  }
 ],
 "metadata": {
  "kernelspec": {
   "display_name": "Python 3",
   "language": "python",
   "name": "python3"
  },
  "language_info": {
   "codemirror_mode": {
    "name": "ipython",
    "version": 3
   },
   "file_extension": ".py",
   "mimetype": "text/x-python",
   "name": "python",
   "nbconvert_exporter": "python",
   "pygments_lexer": "ipython3",
   "version": "3.7.4"
  }
 },
 "nbformat": 4,
 "nbformat_minor": 2
}
