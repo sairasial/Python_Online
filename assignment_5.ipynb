{
 "cells": [
  {
   "cell_type": "code",
   "execution_count": 1,
   "metadata": {},
   "outputs": [
    {
     "name": "stdout",
     "output_type": "stream",
     "text": [
      "1\n",
      "2\n",
      "6\n"
     ]
    }
   ],
   "source": [
    "def fact(number):\n",
    "    i=1\n",
    "    fact=1\n",
    "    while i<=number:\n",
    "        fact=fact*i\n",
    "        i=i+1\n",
    "        print(fact)\n",
    "fact(3)"
   ]
  },
  {
   "cell_type": "code",
   "execution_count": 3,
   "metadata": {},
   "outputs": [
    {
     "name": "stdout",
     "output_type": "stream",
     "text": [
      "uper case = 1, lower case=0\n",
      "uper case = 1, lower case=1\n",
      "uper case = 1, lower case=2\n",
      "uper case = 2, lower case=2\n",
      "uper case = 2, lower case=3\n"
     ]
    }
   ],
   "source": [
    "def calculate(string):\n",
    "    upper_case=0\n",
    "    lower_case=0\n",
    "    for letter in string:\n",
    "        if letter.isupper():\n",
    "            upper_case+=1\n",
    "        if letter.islower():\n",
    "            lower_case+=1\n",
    "        print(\"uper case = {}, lower case={}\".format(upper_case,lower_case))\n",
    "calculate(\"SaiRa\")"
   ]
  },
  {
   "cell_type": "code",
   "execution_count": 5,
   "metadata": {},
   "outputs": [
    {
     "name": "stdout",
     "output_type": "stream",
     "text": [
      "Even number is : 18\n",
      "Even number is : 14\n",
      "Even number is : 12\n"
     ]
    }
   ],
   "source": [
    "def even():\n",
    "    list=[11,18,13,19,15,14,12]\n",
    "    for i in list:\n",
    "        if i%2==0:\n",
    "            print(\"Even number is : {}\".format(i))\n",
    "even()"
   ]
  },
  {
   "cell_type": "code",
   "execution_count": 6,
   "metadata": {},
   "outputs": [
    {
     "name": "stdout",
     "output_type": "stream",
     "text": [
      "string is palindrone\n"
     ]
    }
   ],
   "source": [
    "def reverse(string):\n",
    "    return string[::-1]\n",
    "def palindrone(string):\n",
    "    rev=reverse(string)\n",
    "    if rev==string:\n",
    "        print(\"string is palindrone\")\n",
    "    else:\n",
    "        print(\"string is not palindrone\")\n",
    "palindrone(\"mam\")\n",
    "    "
   ]
  },
  {
   "cell_type": "code",
   "execution_count": 10,
   "metadata": {},
   "outputs": [
    {
     "data": {
      "text/plain": [
       "False"
      ]
     },
     "execution_count": 10,
     "metadata": {},
     "output_type": "execute_result"
    }
   ],
   "source": [
    "def prime(number):\n",
    "    if (number==1):\n",
    "        return False\n",
    "    elif(number==2):\n",
    "        return True\n",
    "    else:\n",
    "        for x in range(2,number):\n",
    "            if number%x==0:\n",
    "                return False\n",
    "        return True\n",
    "           \n",
    "prime(55)"
   ]
  },
  {
   "cell_type": "code",
   "execution_count": 12,
   "metadata": {},
   "outputs": [
    {
     "name": "stdout",
     "output_type": "stream",
     "text": [
      "dress = notebooks\n",
      "accessories = books\n",
      "references\n",
      "notes\n"
     ]
    }
   ],
   "source": [
    "def course(dress,accessories,*params):\n",
    "    print(\"course = {}\\naccessories = {}\".format(dress,accessories))\n",
    "    for value in params:\n",
    "        print(value)\n",
    "shopping(\"notebooks\",\"books\",\"references\",\"notes\")"
   ]
  },
  {
   "cell_type": "code",
   "execution_count": null,
   "metadata": {},
   "outputs": [],
   "source": []
  }
 ],
 "metadata": {
  "kernelspec": {
   "display_name": "Python 3",
   "language": "python",
   "name": "python3"
  },
  "language_info": {
   "codemirror_mode": {
    "name": "ipython",
    "version": 3
   },
   "file_extension": ".py",
   "mimetype": "text/x-python",
   "name": "python",
   "nbconvert_exporter": "python",
   "pygments_lexer": "ipython3",
   "version": "3.7.4"
  }
 },
 "nbformat": 4,
 "nbformat_minor": 2
}
