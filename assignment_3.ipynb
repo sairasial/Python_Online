{
 "cells": [
  {
   "cell_type": "code",
   "execution_count": 1,
   "metadata": {},
   "outputs": [
    {
     "name": "stdout",
     "output_type": "stream",
     "text": [
      "Enter 1st Nmuber: 5\n",
      "Enter 2nd Number: 5\n",
      "Enter operator: *\n",
      "25 answer\n"
     ]
    }
   ],
   "source": [
    "value1=int(input(\"Enter 1st Nmuber: \"))\n",
    "value2=int(input(\"Enter 2nd Number: \"))\n",
    "operator=input('Enter operator: ')\n",
    "if operator=='+':\n",
    "    value=value1+value2\n",
    "    print(value,\"answer\")\n",
    "if operator=='-':\n",
    "    value=value1-value2\n",
    "    print(value,\"answer\")\n",
    "if operator=='*':\n",
    "    value=value1*value2\n",
    "    print(value,\"answer\")\n",
    "if operator=='/':\n",
    "    value=value1/value2\n",
    "    print(value,\"answer\")\n",
    "if operator=='power':\n",
    "    value=value1**value2\n",
    "    print(value,\"answer\")"
   ]
  },
  {
   "cell_type": "code",
   "execution_count": 13,
   "metadata": {},
   "outputs": [
    {
     "name": "stdout",
     "output_type": "stream",
     "text": [
      "Element Exists\n"
     ]
    }
   ],
   "source": [
    "lisst=[\"dost\",\"saira\",9]\n",
    "for i in lisst: \n",
    "    if(i == 9) : \n",
    "        print (\"Element Exists\") "
   ]
  },
  {
   "cell_type": "code",
   "execution_count": 10,
   "metadata": {},
   "outputs": [
    {
     "name": "stdout",
     "output_type": "stream",
     "text": [
      "{'Name': 'Saira Sial', 'Job title': 'programming', 'age': '18', 'progress': 'good'}\n"
     ]
    }
   ],
   "source": [
    "employee={\"Name\":\"Saira Sial\",\"Job title\":\"programming\",\"age\":\"18\"}\n",
    "employee[\"progress\"]='good'\n",
    "print(employee)"
   ]
  },
  {
   "cell_type": "code",
   "execution_count": 5,
   "metadata": {},
   "outputs": [
    {
     "name": "stdout",
     "output_type": "stream",
     "text": [
      "Sum : 110\n"
     ]
    }
   ],
   "source": [
    "def returnSum(Dict): \n",
    "      \n",
    "    sum = 0\n",
    "    for i in Dict: \n",
    "        sum = sum + Dict[i] \n",
    "      \n",
    "    return sum\n",
    "   \n",
    "dict = {'a': 40, 'b':50, 'c':20} \n",
    "print(\"Sum :\", returnSum(dict)) "
   ]
  },
  {
   "cell_type": "code",
   "execution_count": 6,
   "metadata": {},
   "outputs": [
    {
     "name": "stdout",
     "output_type": "stream",
     "text": [
      "[2, 2, 25, 34, 34, 54, 56, 60, 78, 90, 245]\n",
      "[2, 34]\n"
     ]
    }
   ],
   "source": [
    "my_list = [2,34,56,2,34,78,54,90,25,245,60]\n",
    " \n",
    "my_list.sort()\n",
    "print(my_list)\n",
    " \n",
    "new_list = sorted(set(my_list))\n",
    "dup_list =[]\n",
    " \n",
    " \n",
    "for i in range(len(new_list)):\n",
    "        if (my_list.count(new_list[i]) > 1 ):\n",
    "            dup_list.append(new_list[i])\n",
    "        \n",
    "print(dup_list) "
   ]
  },
  {
   "cell_type": "code",
   "execution_count": 7,
   "metadata": {},
   "outputs": [
    {
     "name": "stdout",
     "output_type": "stream",
     "text": [
      "already exist\n"
     ]
    }
   ],
   "source": [
    "person = {\n",
    "  \"first_name\": \"Saira\",\n",
    "  \"last_name\": \"Sial\",\n",
    "  \"nickname\": \"chotu\"\n",
    "}\n",
    "if \"first_name\" in person:\n",
    "    print(\"already exist\")\n",
    "elif \"lastname\" in person:\n",
    "    print(\"already exist\")\n",
    "elif \"nickname\" in person:\n",
    "    print(\"already exist\")\n",
    "else:\n",
    "    print(\"not exist\")"
   ]
  },
  {
   "cell_type": "code",
   "execution_count": null,
   "metadata": {},
   "outputs": [],
   "source": []
  }
 ],
 "metadata": {
  "kernelspec": {
   "display_name": "Python 3",
   "language": "python",
   "name": "python3"
  },
  "language_info": {
   "codemirror_mode": {
    "name": "ipython",
    "version": 3
   },
   "file_extension": ".py",
   "mimetype": "text/x-python",
   "name": "python",
   "nbconvert_exporter": "python",
   "pygments_lexer": "ipython3",
   "version": "3.7.4"
  }
 },
 "nbformat": 4,
 "nbformat_minor": 2
}
